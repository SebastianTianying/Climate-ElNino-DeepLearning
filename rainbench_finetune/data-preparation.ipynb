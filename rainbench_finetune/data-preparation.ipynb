{
 "cells": [
  {
   "cell_type": "code",
   "execution_count": 1,
   "metadata": {},
   "outputs": [],
   "source": [
    "# DEBUG: (5, 32, 64)\n",
    "# DEBUG: (359400, 18, 32, 64)\n",
    "# DEBUG: (171672, 1, 32, 64)\n",
    "# DEBUG: (11688, 3, 32, 64)"
   ]
  },
  {
   "cell_type": "code",
   "execution_count": 1,
   "metadata": {},
   "outputs": [
    {
     "data": {
      "text/plain": [
       "(359400, 18, 32, 64)"
      ]
     },
     "execution_count": 1,
     "metadata": {},
     "output_type": "execute_result"
    }
   ],
   "source": [
    "import numpy as np\n",
    "import pandas as pd\n",
    "\n",
    "\n",
    "existing_mmap = np.memmap('/home/allen/data/rainbench/era5625_aaai/era5625_aaai__era5625.mmap',\\\n",
    "     dtype='float32', mode='r+', shape=(359400, 18, 32, 64))\n",
    "existing_mmap.shape"
   ]
  },
  {
   "cell_type": "code",
   "execution_count": 4,
   "metadata": {},
   "outputs": [],
   "source": [
    "import pandas as pd\n",
    "import numpy as np\n",
    "\n",
    "df = pd.read_csv('/home/allen/data/hourly_elnino.csv')\n",
    "hour_data = df.iloc[955464:1314864]['Value'].to_numpy()\n"
   ]
  },
  {
   "cell_type": "code",
   "execution_count": 5,
   "metadata": {},
   "outputs": [],
   "source": [
    "hour_data = hour_data[..., np.newaxis]"
   ]
  },
  {
   "cell_type": "code",
   "execution_count": 13,
   "metadata": {},
   "outputs": [],
   "source": [
    "hour_data.shape\n",
    "new_hour_data = []\n",
    "for i in hour_data:\n",
    "    a = np.full((1,32,64), i)\n",
    "    new_hour_data.append(a)\n",
    "print(len(new_hour_data))"
   ]
  },
  {
   "cell_type": "code",
   "execution_count": 7,
   "metadata": {},
   "outputs": [
    {
     "ename": "ValueError",
     "evalue": "mmap length is greater than file size",
     "output_type": "error",
     "traceback": [
      "\u001b[0;31m---------------------------------------------------------------------------\u001b[0m",
      "\u001b[0;31mValueError\u001b[0m                                Traceback (most recent call last)",
      "\u001b[1;32m/home/allen/ClimaX-finetuning/rainbench_finetune/data-preparation.ipynb Cell 6\u001b[0m line \u001b[0;36m2\n\u001b[1;32m      <a href='vscode-notebook-cell://ssh-remote%2B34.145.29.201/home/allen/ClimaX-finetuning/rainbench_finetune/data-preparation.ipynb#X11sdnNjb2RlLXJlbW90ZQ%3D%3D?line=0'>1</a>\u001b[0m \u001b[39m# Open the existing memmap arrays\u001b[39;00m\n\u001b[0;32m----> <a href='vscode-notebook-cell://ssh-remote%2B34.145.29.201/home/allen/ClimaX-finetuning/rainbench_finetune/data-preparation.ipynb#X11sdnNjb2RlLXJlbW90ZQ%3D%3D?line=1'>2</a>\u001b[0m existing_memmap \u001b[39m=\u001b[39m np\u001b[39m.\u001b[39;49mmemmap(\u001b[39m'\u001b[39;49m\u001b[39m/home/allen/data/rainbench/era5625_aaai/era5625_aaai__era5625.mmap\u001b[39;49m\u001b[39m'\u001b[39;49m, dtype\u001b[39m=\u001b[39;49mnp\u001b[39m.\u001b[39;49mfloat64, mode\u001b[39m=\u001b[39;49m\u001b[39m'\u001b[39;49m\u001b[39mr\u001b[39;49m\u001b[39m'\u001b[39;49m, shape\u001b[39m=\u001b[39;49m(\u001b[39m359400\u001b[39;49m, \u001b[39m18\u001b[39;49m, \u001b[39m32\u001b[39;49m, \u001b[39m64\u001b[39;49m))\n\u001b[1;32m      <a href='vscode-notebook-cell://ssh-remote%2B34.145.29.201/home/allen/ClimaX-finetuning/rainbench_finetune/data-preparation.ipynb#X11sdnNjb2RlLXJlbW90ZQ%3D%3D?line=2'>3</a>\u001b[0m hourly_data_memmap \u001b[39m=\u001b[39m np\u001b[39m.\u001b[39mmemmap(\u001b[39m'\u001b[39m\u001b[39mhourly_data.mmap\u001b[39m\u001b[39m'\u001b[39m, dtype\u001b[39m=\u001b[39mnp\u001b[39m.\u001b[39mfloat64, mode\u001b[39m=\u001b[39m\u001b[39m'\u001b[39m\u001b[39mr\u001b[39m\u001b[39m'\u001b[39m, shape\u001b[39m=\u001b[39m(\u001b[39m359400\u001b[39m, \u001b[39m1\u001b[39m, \u001b[39m32\u001b[39m, \u001b[39m64\u001b[39m))\n\u001b[1;32m      <a href='vscode-notebook-cell://ssh-remote%2B34.145.29.201/home/allen/ClimaX-finetuning/rainbench_finetune/data-preparation.ipynb#X11sdnNjb2RlLXJlbW90ZQ%3D%3D?line=4'>5</a>\u001b[0m \u001b[39m# Determine the shape of the concatenated array\u001b[39;00m\n",
      "File \u001b[0;32m/opt/conda/envs/climaX-finetune/lib/python3.8/site-packages/numpy/core/memmap.py:267\u001b[0m, in \u001b[0;36mmemmap.__new__\u001b[0;34m(subtype, filename, dtype, mode, offset, shape, order)\u001b[0m\n\u001b[1;32m    265\u001b[0m \u001b[39mbytes\u001b[39m \u001b[39m-\u001b[39m\u001b[39m=\u001b[39m start\n\u001b[1;32m    266\u001b[0m array_offset \u001b[39m=\u001b[39m offset \u001b[39m-\u001b[39m start\n\u001b[0;32m--> 267\u001b[0m mm \u001b[39m=\u001b[39m mmap\u001b[39m.\u001b[39;49mmmap(fid\u001b[39m.\u001b[39;49mfileno(), \u001b[39mbytes\u001b[39;49m, access\u001b[39m=\u001b[39;49macc, offset\u001b[39m=\u001b[39;49mstart)\n\u001b[1;32m    269\u001b[0m \u001b[39mself\u001b[39m \u001b[39m=\u001b[39m ndarray\u001b[39m.\u001b[39m\u001b[39m__new__\u001b[39m(subtype, shape, dtype\u001b[39m=\u001b[39mdescr, buffer\u001b[39m=\u001b[39mmm,\n\u001b[1;32m    270\u001b[0m                        offset\u001b[39m=\u001b[39marray_offset, order\u001b[39m=\u001b[39morder)\n\u001b[1;32m    271\u001b[0m \u001b[39mself\u001b[39m\u001b[39m.\u001b[39m_mmap \u001b[39m=\u001b[39m mm\n",
      "\u001b[0;31mValueError\u001b[0m: mmap length is greater than file size"
     ]
    }
   ],
   "source": [
    "# Open the existing memmap arrays\n",
    "existing_memmap = np.memmap('/home/allen/data/rainbench/era5625_aaai/era5625_aaai__era5625.mmap',\\\n",
    "     dtype='float32', mode='r+', shape=(359400, 18, 32, 64))\n",
    "\n",
    "hourly_data_memmap = np.memmap('hourly_data.mmap', dtype='float64', mode='r', shape=(359400, 1, 32, 64))\n",
    "\n",
    "# Determine the shape of the concatenated array\n",
    "concatenated_shape = (existing_memmap.shape[0] + hourly_data_memmap.shape[0])\n",
    "\n",
    "# Create a new memmap array for the concatenated data\n",
    "concatenated_memmap = np.memmap('concatenated_memmap.mmap', dtype=np.float64, mode='w+', shape=concatenated_shape)\n",
    "\n",
    "# Copy data from existing memmap to the concatenated memmap\n",
    "concatenated_memmap[:existing_memmap.shape[0]] = existing_memmap[:]\n",
    "\n",
    "# Copy data from hourly_data memmap to the concatenated memmap\n",
    "concatenated_memmap[existing_memmap.shape[0]:] = hourly_data_memmap[:]"
   ]
  },
  {
   "cell_type": "code",
   "execution_count": 10,
   "metadata": {},
   "outputs": [
    {
     "ename": "ValueError",
     "evalue": "could not broadcast input array from shape (359400,1) into shape (359400,1,32,64)",
     "output_type": "error",
     "traceback": [
      "\u001b[0;31m---------------------------------------------------------------------------\u001b[0m",
      "\u001b[0;31mValueError\u001b[0m                                Traceback (most recent call last)",
      "\u001b[1;32m/home/allen/ClimaX-finetuning/rainbench_finetune/data-preparation.ipynb Cell 7\u001b[0m line \u001b[0;36m4\n\u001b[1;32m      <a href='vscode-notebook-cell://ssh-remote%2B34.145.29.201/home/allen/ClimaX-finetuning/rainbench_finetune/data-preparation.ipynb#X12sdnNjb2RlLXJlbW90ZQ%3D%3D?line=1'>2</a>\u001b[0m hourly_data_array \u001b[39m=\u001b[39m hour_data\n\u001b[1;32m      <a href='vscode-notebook-cell://ssh-remote%2B34.145.29.201/home/allen/ClimaX-finetuning/rainbench_finetune/data-preparation.ipynb#X12sdnNjb2RlLXJlbW90ZQ%3D%3D?line=2'>3</a>\u001b[0m hourly_data_memmap \u001b[39m=\u001b[39m np\u001b[39m.\u001b[39mmemmap(\u001b[39m'\u001b[39m\u001b[39mhourly_data.mmap\u001b[39m\u001b[39m'\u001b[39m, dtype\u001b[39m=\u001b[39m\u001b[39m'\u001b[39m\u001b[39mfloat32\u001b[39m\u001b[39m'\u001b[39m, mode\u001b[39m=\u001b[39m\u001b[39m'\u001b[39m\u001b[39mw+\u001b[39m\u001b[39m'\u001b[39m, shape\u001b[39m=\u001b[39m(\u001b[39m359400\u001b[39m, \u001b[39m1\u001b[39m, \u001b[39m32\u001b[39m, \u001b[39m64\u001b[39m))\n\u001b[0;32m----> <a href='vscode-notebook-cell://ssh-remote%2B34.145.29.201/home/allen/ClimaX-finetuning/rainbench_finetune/data-preparation.ipynb#X12sdnNjb2RlLXJlbW90ZQ%3D%3D?line=3'>4</a>\u001b[0m hourly_data_memmap[:] \u001b[39m=\u001b[39m hourly_data_array\n\u001b[1;32m      <a href='vscode-notebook-cell://ssh-remote%2B34.145.29.201/home/allen/ClimaX-finetuning/rainbench_finetune/data-preparation.ipynb#X12sdnNjb2RlLXJlbW90ZQ%3D%3D?line=5'>6</a>\u001b[0m \u001b[39m# Step 2: Concatenate the two memmaps\u001b[39;00m\n\u001b[1;32m      <a href='vscode-notebook-cell://ssh-remote%2B34.145.29.201/home/allen/ClimaX-finetuning/rainbench_finetune/data-preparation.ipynb#X12sdnNjb2RlLXJlbW90ZQ%3D%3D?line=6'>7</a>\u001b[0m \u001b[39m# concatenated_memmap = np.concatenate((existing_memmap, hourly_data_memmap))\u001b[39;00m\n\u001b[1;32m      <a href='vscode-notebook-cell://ssh-remote%2B34.145.29.201/home/allen/ClimaX-finetuning/rainbench_finetune/data-preparation.ipynb#X12sdnNjb2RlLXJlbW90ZQ%3D%3D?line=7'>8</a>\u001b[0m \n\u001b[0;32m   (...)\u001b[0m\n\u001b[1;32m     <a href='vscode-notebook-cell://ssh-remote%2B34.145.29.201/home/allen/ClimaX-finetuning/rainbench_finetune/data-preparation.ipynb#X12sdnNjb2RlLXJlbW90ZQ%3D%3D?line=12'>13</a>\u001b[0m \n\u001b[1;32m     <a href='vscode-notebook-cell://ssh-remote%2B34.145.29.201/home/allen/ClimaX-finetuning/rainbench_finetune/data-preparation.ipynb#X12sdnNjb2RlLXJlbW90ZQ%3D%3D?line=13'>14</a>\u001b[0m \u001b[39m# Close the memmaps when done\u001b[39;00m\n\u001b[1;32m     <a href='vscode-notebook-cell://ssh-remote%2B34.145.29.201/home/allen/ClimaX-finetuning/rainbench_finetune/data-preparation.ipynb#X12sdnNjb2RlLXJlbW90ZQ%3D%3D?line=14'>15</a>\u001b[0m hourly_data_memmap\u001b[39m.\u001b[39mflush()\n",
      "\u001b[0;31mValueError\u001b[0m: could not broadcast input array from shape (359400,1) into shape (359400,1,32,64)"
     ]
    }
   ],
   "source": [
    "# Step 1: Convert hourly_data to memmap\n",
    "hourly_data_array = hour_data\n",
    "hourly_data_memmap = np.memmap('hourly_data.mmap', dtype='float32', mode='w+', shape=(359400, 1, 32, 64))\n",
    "hourly_data_memmap[:] = hourly_data_array\n",
    "\n",
    "# Step 2: Concatenate the two memmaps\n",
    "# concatenated_memmap = np.concatenate((existing_memmap, hourly_data_memmap))\n",
    "\n",
    "# Step 3: Save the concatenated memmap if needed\n",
    "# To save the concatenated memmap, you can simply overwrite the existing_memmap file\n",
    "# with the new data if that's your intention.\n",
    "# Make sure to handle file I/O appropriately for your use case.\n",
    "\n",
    "# Close the memmaps when done\n",
    "hourly_data_memmap.flush()\n",
    "# hourly_data_memmap.close()"
   ]
  },
  {
   "cell_type": "code",
   "execution_count": 9,
   "metadata": {},
   "outputs": [
    {
     "data": {
      "text/plain": [
       "dtype('float64')"
      ]
     },
     "execution_count": 9,
     "metadata": {},
     "output_type": "execute_result"
    }
   ],
   "source": [
    "hour_data.dtype"
   ]
  },
  {
   "cell_type": "code",
   "execution_count": 6,
   "metadata": {},
   "outputs": [],
   "source": [
    "import dill\n",
    "\n",
    "file = dill.load(open('/home/allen/data/rainbench/era5625_aaai/era5625_aaai.dill', 'rb'))"
   ]
  },
  {
   "cell_type": "code",
   "execution_count": 7,
   "metadata": {},
   "outputs": [
    {
     "data": {
      "text/plain": [
       "{'variables': {'imerg5625/precipitationcal': {'name': 'precipitationcal',\n",
       "   'mmap_name': 'imerg_5625__imerg5625bi.mmap',\n",
       "   'type': 'temp',\n",
       "   'dims': (32, 64),\n",
       "   'offset': 0,\n",
       "   'first_ts': 959817600.0,\n",
       "   'last_ts': 1577833200.0,\n",
       "   'tfreq_s': 3600,\n",
       "   'levels': [0]}},\n",
       " 'memmap': {'imerg_5625__imerg5625bi.mmap': {'dims': (171672, 1, 32, 64),\n",
       "   'dtype': 'float32',\n",
       "   'daterange': (959817600.0, 1577833200.0),\n",
       "   'tfreq_s': 3600}}}"
      ]
     },
     "execution_count": 7,
     "metadata": {},
     "output_type": "execute_result"
    }
   ],
   "source": []
  }
 ],
 "metadata": {
  "kernelspec": {
   "display_name": "climaX-finetune",
   "language": "python",
   "name": "python3"
  },
  "language_info": {
   "codemirror_mode": {
    "name": "ipython",
    "version": 3
   },
   "file_extension": ".py",
   "mimetype": "text/x-python",
   "name": "python",
   "nbconvert_exporter": "python",
   "pygments_lexer": "ipython3",
   "version": "3.8.16"
  }
 },
 "nbformat": 4,
 "nbformat_minor": 2
}
