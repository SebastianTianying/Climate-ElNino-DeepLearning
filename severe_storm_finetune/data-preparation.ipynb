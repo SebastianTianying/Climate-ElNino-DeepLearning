{
 "cells": [
  {
   "cell_type": "code",
   "execution_count": null,
   "metadata": {},
   "outputs": [],
   "source": [
    "import numpy as np\n",
    "import pandas as pd\n",
    "from tqdm import tqdm\n",
    "from netCDF4 import Dataset\n",
    "import dill"
   ]
  },
  {
   "cell_type": "markdown",
   "metadata": {},
   "source": [
    "Look at variables in ERA data to figure out latitude/longitude constraints"
   ]
  },
  {
   "cell_type": "code",
   "execution_count": null,
   "metadata": {},
   "outputs": [],
   "source": [
    "nc_file = Dataset('/localhome/data/constants_5.625deg.nc', mode='r')\n",
    "\n",
    "for variable in nc_file.variables:\n",
    "    data = nc_file.variables[variable][:]\n",
    "    print(f\"{variable} first 360 values:\", data.flat[:360])\n",
    "\n",
    "for var_name in nc_file.variables:\n",
    "    var = nc_file.variables[var_name]\n",
    "    print(var_name, var)\n",
    "\n",
    "nc_file.close()"
   ]
  },
  {
   "cell_type": "markdown",
   "metadata": {},
   "source": [
    "Converting ERA5 to be over the contiguous US"
   ]
  },
  {
   "cell_type": "code",
   "execution_count": 4,
   "metadata": {},
   "outputs": [],
   "source": [
    "existing_mmap = np.memmap('/localhome/data/severestorms/era5625_aaai/era5625_aaai__era5625.mmap',\\\n",
    "     dtype='float32', mode='r+')\n",
    "existing_mmap_const = np.memmap('/localhome/data/severestorms/era5625_aaai/era5625_aaai__era5625_const.mmap',\\\n",
    "     dtype='float32', mode='r+')\n",
    "\n",
    "us_mmap = np.memmap('/localhome/data/severestorms/era5625_aaai/era5625_us.mmap',\\\n",
    "     dtype='float32', mode='w+', shape=(359400, 18, 5, 12))\n",
    "us_mmap_const = np.memmap('/localhome/data/severestorms/era5625_aaai/era5625_us_const.mmap',\\\n",
    "               dtype='float32', mode='w+', shape=(359400, 18, 5, 12)) \n",
    "\n",
    "us_mmap[:] = existing_mmap[:,:,20:25,9:21] \n",
    "us_mmap_const[:] = existing_mmap_const[:,:,20:25,9:21] "
   ]
  },
  {
   "cell_type": "markdown",
   "metadata": {},
   "source": [
    "Create dill files from text files with mmap name + dimensions + each variable"
   ]
  },
  {
   "cell_type": "code",
   "execution_count": null,
   "metadata": {},
   "outputs": [],
   "source": [
    "storm_dill_dict = {'variables': {'imerg5625/precipitationcal': {'name': 'precipitationcal', 'mmap_name': 'storm_data_us.mmap', 'type': 'temp', 'dims': (5, 12), 'offset': 0, 'first_ts': 283996800.0, 'last_ts': 1577833200.0, 'tfreq_s': 3600, 'levels': [0]}}, 'memmap': {'storm_data_us.mmap': {'dims': (359400, 1, 5, 12), 'dtype': 'float32', 'daterange': (283996800.0, 1577833200.0), 'tfreq_s': 3600}}}\n",
    "\n",
    "dill_file_path = '/localhome/data/rainbench/imerg5625/storm_data_us.dill'\n",
    "\n",
    "with open(dill_file_path, 'wb') as file:\n",
    "    dill.dump(storm_dill_dict, file)"
   ]
  }
 ],
 "metadata": {
  "kernelspec": {
   "display_name": "climaX-finetune",
   "language": "python",
   "name": "python3"
  },
  "language_info": {
   "codemirror_mode": {
    "name": "ipython",
    "version": 3
   },
   "file_extension": ".py",
   "mimetype": "text/x-python",
   "name": "python",
   "nbconvert_exporter": "python",
   "pygments_lexer": "ipython3",
   "version": "3.10.6"
  }
 },
 "nbformat": 4,
 "nbformat_minor": 2
}
